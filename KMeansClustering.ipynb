{
 "cells": [
  {
   "cell_type": "code",
   "execution_count": 1,
   "metadata": {},
   "outputs": [],
   "source": [
    "import numpy as np\n",
    "import matplotlib.pyplot as plt\n",
    "from sklearn.cluster import KMeans # only for verifying answer"
   ]
  },
  {
   "cell_type": "code",
   "execution_count": 2,
   "metadata": {},
   "outputs": [],
   "source": [
    "#checks if two arrays are equal an returns True iff all values are same\n",
    "def equalFinder(A,B):\n",
    "    row = np.shape(A)[0]\n",
    "    flag = True\n",
    "    for i in range(row):\n",
    "        if(A[i] - B[i] != 0):\n",
    "            flag = False\n",
    "            break;\n",
    "\n",
    "    return flag"
   ]
  },
  {
   "cell_type": "markdown",
   "metadata": {},
   "source": [
    "### Above function is used to check if cluster labels are changing wrt previous iteration,\n",
    "### But we can also say norm of vector difference should be zero; using which we can avoid using this method"
   ]
  },
  {
   "cell_type": "code",
   "execution_count": 3,
   "metadata": {},
   "outputs": [
    {
     "name": "stdin",
     "output_type": "stream",
     "text": [
      "Enter number of clusters:  3\n",
      "Enter number of datapoints:  20\n",
      "Enter dimension in which datapoints exist:  2\n"
     ]
    },
    {
     "name": "stdout",
     "output_type": "stream",
     "text": [
      "Dimension of Data points: (20, 2)\n",
      "Initial assumed cluster centers: \n",
      "[[-33.  -9.]\n",
      " [-48.  55.]\n",
      " [ 44. -58.]]\n",
      "Dimension of cluster center: (3, 2)\n",
      "\n"
     ]
    }
   ],
   "source": [
    "k = int(input(\"Enter number of clusters: \"))\n",
    "n = int(input(\"Enter number of datapoints: \"))\n",
    "dim = int(input(\"Enter dimension in which datapoints exist: \"))\n",
    "data = np.random.randint(-3*n,3*n,size = (n,dim))#generating data points in 'n'dim space; 3 is to spread data points\n",
    "B = np.arange(k)#assuming initial cluster center\n",
    "#B = np.random.randint(n,size = (k)) can be done but sometimes values were repeating due to which Nan is obtained\n",
    "centroids = np.array(data[B][:] , dtype = 'float32')\n",
    "#print(f\"Data points in column space: \\n{data}\")\n",
    "print(f\"Dimension of Data points: {np.shape(data)}\")\n",
    "print(f\"Initial assumed cluster centers: \\n{centroids}\")\n",
    "print(f\"Dimension of cluster center: {np.shape(centroids)}\\n\")"
   ]
  },
  {
   "cell_type": "markdown",
   "metadata": {},
   "source": [
    "### In below block, I'm executing till class labels don't change, I tried the usual way wherein we check\n",
    "### if cluster centres don't change...but in that case, some were wrongly grouped to wrong cluster"
   ]
  },
  {
   "cell_type": "code",
   "execution_count": 4,
   "metadata": {},
   "outputs": [
    {
     "name": "stdout",
     "output_type": "stream",
     "text": [
      "Cluster labels in prev. iter : [0. 0. 0. 0. 0. 0. 0. 0. 0. 0. 0. 0. 0. 0. 0. 0. 0. 0. 0. 0.]\n",
      "New Cluster labels: [0. 1. 2. 0. 0. 0. 0. 1. 1. 0. 1. 2. 2. 0. 0. 0. 0. 2. 0. 2.]\n",
      "Calculated new centroid:\n",
      "[[-14.545455   -4.3636365]\n",
      " [-29.         50.       ]\n",
      " [ 43.        -28.6      ]]\n",
      "\n",
      "\n",
      "          \n",
      "          \n",
      "Cluster labels in prev. iter : [0. 1. 2. 0. 0. 0. 0. 1. 1. 0. 1. 2. 2. 0. 0. 0. 0. 2. 0. 2.]\n",
      "New Cluster labels: [0. 1. 2. 1. 0. 0. 0. 1. 1. 0. 1. 2. 2. 0. 0. 0. 0. 2. 0. 2.]\n",
      "Calculated new centroid:\n",
      "[[-17.1  -8.1]\n",
      " [-21.   46.6]\n",
      " [ 43.  -28.6]]\n",
      "\n",
      "\n",
      "          \n",
      "          \n",
      "Cluster labels in prev. iter : [0. 1. 2. 1. 0. 0. 0. 1. 1. 0. 1. 2. 2. 0. 0. 0. 0. 2. 0. 2.]\n",
      "New Cluster labels: [0. 1. 2. 1. 0. 0. 0. 1. 1. 0. 1. 2. 2. 0. 1. 0. 0. 2. 0. 2.]\n",
      "Calculated new centroid:\n",
      "[[-22.       -12.      ]\n",
      " [-13.        43.333332]\n",
      " [ 43.       -28.6     ]]\n",
      "\n",
      "\n",
      "          \n",
      "          \n",
      "Cluster labels in prev. iter : [0. 1. 2. 1. 0. 0. 0. 1. 1. 0. 1. 2. 2. 0. 1. 0. 0. 2. 0. 2.]\n",
      "New Cluster labels: [0. 1. 2. 1. 0. 0. 0. 1. 1. 1. 1. 2. 2. 0. 1. 0. 0. 2. 0. 2.]\n",
      "Calculated new centroid:\n",
      "[[-26.75     -15.75    ]\n",
      " [ -8.857142  39.714287]\n",
      " [ 43.       -28.6     ]]\n",
      "\n",
      "\n",
      "          \n",
      "          \n",
      "Cluster labels in prev. iter : [0. 1. 2. 1. 0. 0. 0. 1. 1. 1. 1. 2. 2. 0. 1. 0. 0. 2. 0. 2.]\n",
      "New Cluster labels: [0. 1. 2. 1. 0. 0. 0. 1. 1. 1. 1. 2. 2. 0. 1. 0. 0. 2. 0. 2.]\n",
      "Calculated new centroid:\n",
      "[[-26.75     -15.75    ]\n",
      " [ -8.857142  39.714287]\n",
      " [ 43.       -28.6     ]]\n",
      "\n",
      "Since initial clustering is same as final, we terminate execution\n",
      "Final Clustering groups: [0. 1. 2. 1. 0. 0. 0. 1. 1. 1. 1. 2. 2. 0. 1. 0. 0. 2. 0. 2.]\n",
      "Final Cluster centres: \n",
      "[[-26.75     -15.75    ]\n",
      " [ -8.857142  39.714287]\n",
      " [ 43.       -28.6     ]]\n",
      "Total Iterations: 5\n"
     ]
    }
   ],
   "source": [
    "iter = 0 #to keep track of total iterations performed \n",
    "clust_label = np.zeros((n))# assumin that all initially become to cluster 0\n",
    "eucl_dist = np.zeros((n,k))# initialising euclidean distance matrix\n",
    "while(True):\n",
    "    iter = iter + 1\n",
    "    #finding euclidean distance of each data point from all cluster centres\n",
    "    for i in range(n):\n",
    "        for j in range(k):\n",
    "            eucl_dist[i][j] = np.linalg.norm(centroids[j][:]-data[i][:])\n",
    "    #print(eucl_dist)\n",
    "    temp = np.array(np.argmin(eucl_dist,axis=1), dtype = 'float32')#temporary allocation for present iteration\n",
    "    print(f\"Cluster labels in prev. iter : {clust_label}\")\n",
    "    print(f\"New Cluster labels: {temp}\")\n",
    "    \n",
    "    \n",
    "    for i in range(k):\n",
    "        points = data[np.where(temp==i)][:]#finding cluster labels for each point\n",
    "        #print(f\"Points in cluster {i}: \\n{points}\\n\") #printing points in corresponding cluster\n",
    "        for sp in range(dim):\n",
    "            centroids[i][sp] = np.mean(points[:,sp])#finding new centroid using newly allocated cluster points\n",
    "    \n",
    "    print(f\"Calculated new centroid:\\n{centroids}\\n\")\n",
    "    \n",
    "    \n",
    "    if(equalFinder(clust_label,temp) == True):\n",
    "    #if(np.linalg.norm(clust_label - temp) == 0)\n",
    "        print(\"Since initial clustering is same as final, we terminate execution\")\n",
    "        break\n",
    "    else:\n",
    "        clust_label = temp\n",
    "    print(\"\"\"\n",
    "          \n",
    "          \"\"\")\n",
    "print(f\"Final Clustering groups: {clust_label}\")\n",
    "print(f\"Final Cluster centres: \\n{centroids}\")\n",
    "print(f\"Total Iterations: {iter}\")"
   ]
  },
  {
   "cell_type": "markdown",
   "metadata": {},
   "source": [
    "## Plotting to visualise Cluster spread "
   ]
  },
  {
   "cell_type": "code",
   "execution_count": 5,
   "metadata": {},
   "outputs": [
    {
     "data": {
      "image/png": "[encoded data removed]",
      "text/plain": [
       "<Figure size 432x288 with 1 Axes>"
      ]
     },
     "metadata": {
      "needs_background": "light"
     },
     "output_type": "display_data"
    }
   ],
   "source": [
    "if(dim == 2):\n",
    "    for i in range(n):\n",
    "        if(clust_label[i] == 0):\n",
    "            plt.plot(data[i,0],data[i,1],\"*\",color=\"blue\")\n",
    "        elif(clust_label[i]  == 1):\n",
    "            plt.plot(data[i,0],data[i,1],\"*\",color=\"green\")\n",
    "        elif(clust_label[i] == 2):\n",
    "            plt.plot(data[i,0],data[i,1],\"*\",color=\"red\")\n",
    "        else:\n",
    "            plt.plot(data[i,0],data[i,1],\"*\",color=\"black\")   \n",
    "            \n",
    "    for i in range(k):\n",
    "        if(i == 0):\n",
    "            plt.plot(centroids[i,0],centroids[i,1],\"o\",color=\"blue\")\n",
    "        elif(i == 1):    \n",
    "            plt.plot(centroids[i,0],centroids[i,1],\"o\",color=\"green\")\n",
    "        elif(i == 2):\n",
    "            plt.plot(centroids[i,0],centroids[i,1],\"o\",color=\"red\")\n",
    "        else:\n",
    "            plt.plot(centroids[i,0],centroids[i,1],\"o\",color=\"black\")\n",
    "    \n",
    "    plt.title(\"Datapoints in 2D space\")\n",
    "    \n",
    "else: \n",
    "    print(\"Can't visualise clustering for points in higher dimension space\")"
   ]
  },
  {
   "cell_type": "code",
   "execution_count": 6,
   "metadata": {},
   "outputs": [],
   "source": [
    "model = KMeans(n_clusters = k).fit(data)"
   ]
  },
  {
   "cell_type": "markdown",
   "metadata": {},
   "source": [
    "#### Using inbulit KMeans with scikitlearn just to verify output; \n",
    "#### Some executions may give jumbled labels; but points will be in same cluster\n",
    "#### We just need to map values with our result"
   ]
  },
  {
   "cell_type": "code",
   "execution_count": 7,
   "metadata": {},
   "outputs": [
    {
     "data": {
      "text/plain": [
       "array([2, 0, 1, 0, 0, 2, 1, 0, 0, 0, 0, 1, 1, 2, 0, 2, 2, 1, 1, 1])"
      ]
     },
     "execution_count": 7,
     "metadata": {},
     "output_type": "execute_result"
    }
   ],
   "source": [
    "model.labels_"
   ]
  },
  {
   "cell_type": "code",
   "execution_count": 8,
   "metadata": {},
   "outputs": [
    {
     "data": {
      "image/png": "[encoded data removed]",
      "text/plain": [
       "<Figure size 432x288 with 1 Axes>"
      ]
     },
     "metadata": {
      "needs_background": "light"
     },
     "output_type": "display_data"
    }
   ],
   "source": [
    "labels = KMeans(k, random_state=0).fit_predict(data)\n",
    "plt.scatter(data[:, 0], data[:, 1], c=labels,\n",
    "            s=25, cmap='viridis');"
   ]
  },
  {
   "cell_type": "markdown",
   "metadata": {},
   "source": [
    "### Some point vary depending on starting cluster center"
   ]
  }
 ],
 "metadata": {
  "kernelspec": {
   "display_name": "Python 3",
   "language": "python",
   "name": "python3"
  },
  "language_info": {
   "codemirror_mode": {
    "name": "ipython",
    "version": 3
   },
   "file_extension": ".py",
   "mimetype": "text/x-python",
   "name": "python",
   "nbconvert_exporter": "python",
   "pygments_lexer": "ipython3",
   "version": "3.7.4"
  }
 },
 "nbformat": 4,
 "nbformat_minor": 4
}
