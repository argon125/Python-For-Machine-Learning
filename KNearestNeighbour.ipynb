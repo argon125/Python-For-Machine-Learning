{
 "cells": [
  {
   "cell_type": "code",
   "execution_count": 1,
   "metadata": {},
   "outputs": [],
   "source": [
    "import numpy as np\n",
    "import matplotlib.pyplot as plt"
   ]
  },
  {
   "cell_type": "code",
   "execution_count": 2,
   "metadata": {},
   "outputs": [],
   "source": [
    "def euc_dist(vec1,vec2):\n",
    "    euc = np.zeros(len(vec2))\n",
    "    for i in range(len(euc)):\n",
    "        for j in range(len(vec1)-1):\n",
    "            euc[i] += (vec1[j]-vec2[i][j])**2\n",
    "    \n",
    "    return np.sqrt(euc)"
   ]
  },
  {
   "cell_type": "code",
   "execution_count": 3,
   "metadata": {},
   "outputs": [],
   "source": [
    "# Test distance function\n",
    "dataset = np.array([[2.7810836,2.550537003,0],\n",
    "[1.465489372,2.362125076,0],\n",
    "[3.396561688,4.400293529,0],\n",
    "[1.38807019,1.850220317,0],\n",
    "[3.06407232,3.005305973,0],\n",
    "[7.627531214,2.759262235,1],\n",
    "[5.332441248,2.088626775,1],\n",
    "[6.922596716,1.77106367,1],\n",
    "[8.675418651,-0.242068655,1],\n",
    "[7.673756466,3.508563011,1]])"
   ]
  },
  {
   "cell_type": "code",
   "execution_count": 4,
   "metadata": {},
   "outputs": [],
   "source": [
    "def kNearest(k,point,data):\n",
    "    e_dis = euc_dist(point,data)\n",
    "    print(f\"All euclidean Distances: {e_dis}\")\n",
    "    dist = np.sort(e_dis)[:k]\n",
    "    KNN = np.zeros((k,3))\n",
    "    for i in range(k):\n",
    "        ind = np.where(dist[i] == e_dis)\n",
    "        KNN[i] = data[ind]\n",
    "        \n",
    "    labels = KNN[:,-1]\n",
    "    return dist,labels,KNN"
   ]
  },
  {
   "cell_type": "code",
   "execution_count": 5,
   "metadata": {},
   "outputs": [
    {
     "name": "stdin",
     "output_type": "stream",
     "text": [
      "Enter number of Neighbours:  4\n",
      "Enter index of dataset to find neighbour:  6\n"
     ]
    },
    {
     "name": "stdout",
     "output_type": "stream",
     "text": [
      "All euclidean Distances: [2.59283376 3.87661168 3.0152003  3.95156939 2.44658912 2.39106459\n",
      " 0.         1.62155504 4.07524712 2.73824321]\n",
      "Distance: [0.         1.62155504 2.39106459 2.44658912]\n",
      "K Nearest Neighbours: \n",
      "[[5.33244125 2.08862677 1.        ]\n",
      " [6.92259672 1.77106367 1.        ]\n",
      " [7.62753121 2.75926224 1.        ]\n",
      " [3.06407232 3.00530597 0.        ]]\n",
      "Class Labels of k Points: [1. 1. 1. 0.]\n",
      "Predicted Label for datapoint: 1\n"
     ]
    }
   ],
   "source": [
    "neigh = int(input(\"Enter number of Neighbours: \"))\n",
    "index = int(input(\"Enter index of dataset to find neighbour: \"))\n",
    "#ptx =  float(input(\"Enter x coordinate: \"))\n",
    "#pty =  float(input(\"Enter y coordinate: \"))\n",
    "#pt = np.array([ptx,pty])\n",
    "[dist,lab,K] = kNearest(neigh,dataset[index],dataset)\n",
    "#[dist,lab,K] = kNearest(neigh,pt,dataset)\n",
    "print(f\"Distance: {dist}\")\n",
    "print(f\"K Nearest Neighbours: \\n{K}\")\n",
    "print(f\"Class Labels of k Points: {lab}\")\n",
    "print(f\"Predicted Label for datapoint: {int(np.max(lab))}\")"
   ]
  },
  {
   "cell_type": "code",
   "execution_count": 6,
   "metadata": {},
   "outputs": [
    {
     "data": {
      "image/png": "[encoded data removed]",
      "text/plain": [
       "<Figure size 432x288 with 1 Axes>"
      ]
     },
     "metadata": {
      "needs_background": "light"
     },
     "output_type": "display_data"
    }
   ],
   "source": [
    "plt.plot(dataset[:,0],dataset[:,1],'o')\n",
    "#plt.plot(ptx,pty,'*')\n",
    "plt.plot(dataset[index,0],dataset[index,1],'*')\n",
    "plt.show()"
   ]
  }
 ],
 "metadata": {
  "kernelspec": {
   "display_name": "Python 3",
   "language": "python",
   "name": "python3"
  },
  "language_info": {
   "codemirror_mode": {
    "name": "ipython",
    "version": 3
   },
   "file_extension": ".py",
   "mimetype": "text/x-python",
   "name": "python",
   "nbconvert_exporter": "python",
   "pygments_lexer": "ipython3",
   "version": "3.7.4"
  }
 },
 "nbformat": 4,
 "nbformat_minor": 4
}
