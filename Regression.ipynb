{
 "cells": [
  {
   "cell_type": "code",
   "execution_count": 2,
   "metadata": {},
   "outputs": [],
   "source": [
    "import numpy as np\n",
    "import pandas as pd\n",
    "import matplotlib.pyplot as plt"
   ]
  },
  {
   "cell_type": "code",
   "execution_count": 3,
   "metadata": {},
   "outputs": [],
   "source": [
    "# reading data using Pandas\n",
    "df = pd.read_excel('Data_1.xlsx')"
   ]
  },
  {
   "cell_type": "code",
   "execution_count": 4,
   "metadata": {},
   "outputs": [
    {
     "name": "stdout",
     "output_type": "stream",
     "text": [
      "Number of datapoints : 48\n",
      "Number of features : 4\n"
     ]
    }
   ],
   "source": [
    "# to get number of samples and features\n",
    "[sampleCount,samples] = np.shape(df)\n",
    "print(f\"Number of datapoints : {sampleCount}\")\n",
    "print(f\"Number of features : {samples}\")"
   ]
  },
  {
   "cell_type": "code",
   "execution_count": 5,
   "metadata": {},
   "outputs": [
    {
     "name": "stdout",
     "output_type": "stream",
     "text": [
      "Selected features Matrix:\n",
      " [[3.5 5.1]\n",
      " [3.  4.9]\n",
      " [3.2 4.7]\n",
      " [3.1 4.6]\n",
      " [3.6 5. ]\n",
      " [3.9 5.4]\n",
      " [3.4 4.6]\n",
      " [3.4 5. ]\n",
      " [2.9 4.4]\n",
      " [3.1 4.9]\n",
      " [3.7 5.4]\n",
      " [3.4 4.8]\n",
      " [3.  4.3]\n",
      " [4.  5.8]\n",
      " [4.4 5.7]\n",
      " [3.9 5.4]\n",
      " [3.5 5.1]\n",
      " [3.8 5.7]\n",
      " [3.8 5.1]\n",
      " [3.4 5.4]\n",
      " [3.7 5.1]\n",
      " [3.6 4.6]\n",
      " [3.3 5.1]\n",
      " [3.4 4.8]\n",
      " [3.  5. ]\n",
      " [3.4 5. ]\n",
      " [3.5 5.2]\n",
      " [3.4 5.2]\n",
      " [3.2 4.7]\n",
      " [3.1 4.8]\n",
      " [3.4 5.4]\n",
      " [4.1 5.2]\n",
      " [4.2 5.5]\n",
      " [3.1 4.9]\n",
      " [3.2 5. ]\n",
      " [3.5 5.5]\n",
      " [3.6 4.9]\n",
      " [3.  4.4]\n",
      " [3.4 5.1]\n",
      " [3.5 5. ]\n",
      " [2.3 4.5]\n",
      " [3.2 4.4]\n",
      " [3.5 5. ]\n",
      " [3.8 5.1]\n",
      " [3.  4.8]\n",
      " [3.8 4.6]\n",
      " [3.7 5.3]\n",
      " [3.3 5. ]]\n"
     ]
    }
   ],
   "source": [
    "x = df['X'].to_numpy() #convert df to np and select column1\n",
    "x = x.reshape(len(x),1)\n",
    "y = df['Y'].to_numpy() #convert df to np and select column2\n",
    "y = y.reshape(len(y),1) \n",
    "mat = np.concatenate((x,y),axis = 1)\n",
    "print(f\"Selected features Matrix:\\n {mat}\")"
   ]
  },
  {
   "cell_type": "code",
   "execution_count": 6,
   "metadata": {},
   "outputs": [
    {
     "name": "stdout",
     "output_type": "stream",
     "text": [
      "Slope = [0.66110839]\n",
      "Intercept of line = [2.73301864]\n"
     ]
    },
    {
     "data": {
      "image/png": "[encoded data removed]",
      "text/plain": [
       "<Figure size 432x288 with 1 Axes>"
      ]
     },
     "metadata": {
      "needs_background": "light"
     },
     "output_type": "display_data"
    }
   ],
   "source": [
    "# appending column vector of ones to make it of the form y = A*alpha + e\n",
    "A = np.append(x,np.ones((len(x),1)), axis = 1)\n",
    "Alpha = np.matmul(np.matmul(np.linalg.inv(np.matmul(A.T,A)),A.T),y) # finding slope(m) and intercept(c)\n",
    "print(f\"Slope = {Alpha[0]}\")\n",
    "print(f\"Intercept of line = {Alpha[1]}\")\n",
    "ycap = np.matmul(A,Alpha)\n",
    "plt.plot(x,y,'*')\n",
    "plt.plot(x,ycap)\n",
    "plt.xlabel('independent variable x')\n",
    "plt.ylabel('dependent variable y')\n",
    "plt.title(\"Regression Plot\")\n",
    "plt.show()"
   ]
  },
  {
   "cell_type": "code",
   "execution_count": 7,
   "metadata": {},
   "outputs": [
    {
     "name": "stdout",
     "output_type": "stream",
     "text": [
      "[[-0.]\n",
      " [-0.]]\n",
      "[[-0.]\n",
      " [-0.]]\n"
     ]
    }
   ],
   "source": [
    "error_vec = y - ycap\n",
    "#matrix product with transpose of A to show orthogonality\n",
    "print(np.round(np.matmul(A.T,error_vec))) \n",
    "# even dot product with column space gives same output\n",
    "print(np.round(np.dot(A.T,error_vec)))\n",
    "#rounded to prevent small error accumulated output"
   ]
  },
  {
   "cell_type": "code",
   "execution_count": 8,
   "metadata": {},
   "outputs": [],
   "source": [
    "st = df.head()\n",
    "xvals = st['X'].to_numpy()\n",
    "yvals = st['Y'].to_numpy()"
   ]
  },
  {
   "cell_type": "code",
   "execution_count": 9,
   "metadata": {},
   "outputs": [
    {
     "name": "stdout",
     "output_type": "stream",
     "text": [
      "[[-0.05310201 -0.1836562   0.14856547  0.18245463  0.11300883]]\n",
      "[[ 0.05310201  0.1836562  -0.14856547 -0.18245463 -0.11300883]]\n"
     ]
    }
   ],
   "source": [
    "#validating:\n",
    "\n",
    "print(ycap[0:5].T - yvals) \n",
    "print(error_vec[0:5].T)"
   ]
  },
  {
   "cell_type": "markdown",
   "metadata": {},
   "source": [
    "## For DataSet 2"
   ]
  },
  {
   "cell_type": "code",
   "execution_count": 10,
   "metadata": {},
   "outputs": [],
   "source": [
    "# reading data using Pandas\n",
    "df = pd.read_csv('Data_2.csv')"
   ]
  },
  {
   "cell_type": "code",
   "execution_count": 11,
   "metadata": {},
   "outputs": [
    {
     "name": "stdout",
     "output_type": "stream",
     "text": [
      "Number of datapoints : 159\n",
      "Number of features : 7\n"
     ]
    }
   ],
   "source": [
    "# to get number of samples and features\n",
    "[sampleCount,samples] = np.shape(df)\n",
    "print(f\"Number of datapoints : {sampleCount}\")\n",
    "print(f\"Number of features : {samples}\")"
   ]
  },
  {
   "cell_type": "code",
   "execution_count": 12,
   "metadata": {},
   "outputs": [
    {
     "name": "stdout",
     "output_type": "stream",
     "text": [
      "Selected features Matrix:\n",
      " [[23.2    11.52  ]\n",
      " [24.     12.48  ]\n",
      " [23.9    12.3778]\n",
      " [26.3    12.73  ]\n",
      " [26.5    12.444 ]\n",
      " [26.8    13.6024]\n",
      " [26.8    14.1795]\n",
      " [27.6    12.67  ]\n",
      " [27.6    14.0049]\n",
      " [28.5    14.2266]\n",
      " [28.4    14.2628]\n",
      " [28.7    14.3714]\n",
      " [29.1    13.7592]\n",
      " [29.5    13.9129]\n",
      " [29.4    14.9544]\n",
      " [29.4    15.438 ]\n",
      " [30.4    14.8604]\n",
      " [30.4    14.938 ]\n",
      " [30.9    15.633 ]\n",
      " [31.     14.4738]\n",
      " [31.3    15.1285]\n",
      " [31.4    15.9936]\n",
      " [31.5    15.5227]\n",
      " [31.8    15.4686]\n",
      " [31.9    16.2405]\n",
      " [31.8    16.36  ]\n",
      " [32.     16.3618]\n",
      " [32.7    16.517 ]\n",
      " [32.8    16.8896]\n",
      " [33.5    18.957 ]\n",
      " [35.     18.0369]\n",
      " [35.     18.084 ]\n",
      " [36.2    18.7542]\n",
      " [37.4    18.6354]\n",
      " [38.     17.6235]\n",
      " [12.9     4.1472]\n",
      " [16.5     5.2983]\n",
      " [17.5     5.5756]\n",
      " [18.2     5.6166]\n",
      " [18.6     6.216 ]\n",
      " [19.      6.4752]\n",
      " [19.1     6.1677]\n",
      " [19.4     6.1146]\n",
      " [20.4     5.8045]\n",
      " [20.5     6.6339]\n",
      " [20.5     7.0334]\n",
      " [21.      6.55  ]\n",
      " [21.1     6.4   ]\n",
      " [22.      7.5344]\n",
      " [22.      6.9153]\n",
      " [22.1     7.3968]\n",
      " [23.6     7.0866]\n",
      " [24.      8.8768]\n",
      " [25.      8.568 ]\n",
      " [29.5     9.485 ]\n",
      " [23.6     8.3804]\n",
      " [24.1     8.1454]\n",
      " [25.6     8.778 ]\n",
      " [28.5    10.744 ]\n",
      " [33.7    11.7612]\n",
      " [37.3    12.354 ]\n",
      " [13.5     6.8475]\n",
      " [14.3     6.5772]\n",
      " [16.3     7.4052]\n",
      " [17.5     8.3922]\n",
      " [18.4     8.8928]\n",
      " [19.      8.5376]\n",
      " [19.      9.396 ]\n",
      " [19.8     9.7364]\n",
      " [21.2    10.3458]\n",
      " [23.     11.088 ]\n",
      " [24.     11.368 ]\n",
      " [ 7.5     2.112 ]\n",
      " [12.5     3.528 ]\n",
      " [13.8     3.824 ]\n",
      " [15.      4.5924]\n",
      " [15.7     4.588 ]\n",
      " [16.2     5.2224]\n",
      " [16.8     5.1992]\n",
      " [17.2     5.6358]\n",
      " [17.8     5.1376]\n",
      " [18.2     5.082 ]\n",
      " [19.      5.6925]\n",
      " [19.      5.9175]\n",
      " [19.      5.6925]\n",
      " [19.3     6.384 ]\n",
      " [20.      6.11  ]\n",
      " [20.      5.64  ]\n",
      " [20.      6.11  ]\n",
      " [20.      5.875 ]\n",
      " [20.      5.5225]\n",
      " [20.5     5.856 ]\n",
      " [20.5     6.792 ]\n",
      " [20.7     5.9532]\n",
      " [21.      5.2185]\n",
      " [21.5     6.275 ]\n",
      " [22.      7.293 ]\n",
      " [22.      6.375 ]\n",
      " [22.6     6.7334]\n",
      " [23.      6.4395]\n",
      " [23.5     6.561 ]\n",
      " [25.      7.168 ]\n",
      " [25.2     8.323 ]\n",
      " [25.4     7.1672]\n",
      " [25.4     7.0516]\n",
      " [25.4     7.2828]\n",
      " [25.9     7.8204]\n",
      " [26.9     7.5852]\n",
      " [27.8     7.6156]\n",
      " [30.5    10.03  ]\n",
      " [32.     10.2565]\n",
      " [32.5    11.4884]\n",
      " [34.     10.881 ]\n",
      " [34.     10.6091]\n",
      " [34.5    10.835 ]\n",
      " [34.6    10.5717]\n",
      " [36.5    11.1366]\n",
      " [36.5    11.1366]\n",
      " [36.6    12.4313]\n",
      " [36.9    11.9286]\n",
      " [37.     11.73  ]\n",
      " [37.     12.3808]\n",
      " [37.1    11.135 ]\n",
      " [39.     12.8002]\n",
      " [39.8    11.9328]\n",
      " [40.1    12.5125]\n",
      " [40.2    12.604 ]\n",
      " [41.1    12.4888]\n",
      " [30.      5.568 ]\n",
      " [31.7     5.7078]\n",
      " [32.7     5.9364]\n",
      " [34.8     6.2884]\n",
      " [35.5     7.29  ]\n",
      " [36.      6.396 ]\n",
      " [40.      7.28  ]\n",
      " [40.      6.825 ]\n",
      " [40.1     7.786 ]\n",
      " [42.      6.96  ]\n",
      " [43.2     7.792 ]\n",
      " [44.8     7.68  ]\n",
      " [48.3     8.9262]\n",
      " [52.     10.6863]\n",
      " [56.      9.6   ]\n",
      " [56.      9.6   ]\n",
      " [59.     10.812 ]\n",
      " [ 9.3     1.7388]\n",
      " [10.      1.972 ]\n",
      " [10.1     1.7284]\n",
      " [10.4     2.196 ]\n",
      " [10.7     2.0832]\n",
      " [10.8     1.9782]\n",
      " [11.3     2.2139]\n",
      " [11.3     2.2139]\n",
      " [11.4     2.2044]\n",
      " [11.5     2.0904]\n",
      " [11.7     2.43  ]\n",
      " [12.1     2.277 ]\n",
      " [13.2     2.8728]\n",
      " [13.8     2.9322]]\n"
     ]
    }
   ],
   "source": [
    "x = df['Length1'].to_numpy() #convert df to np and select column1\n",
    "x = x.reshape(len(x),1)\n",
    "y = df['Height'].to_numpy() #convert df to np and select column2\n",
    "y = y.reshape(len(y),1) \n",
    "mat = np.concatenate((x,y),axis = 1)\n",
    "print(f\"Selected features Matrix:\\n {mat}\")"
   ]
  },
  {
   "cell_type": "code",
   "execution_count": 13,
   "metadata": {},
   "outputs": [
    {
     "name": "stdout",
     "output_type": "stream",
     "text": [
      "Slope = [0.26814539]\n",
      "Intercept of line = [1.93293619]\n"
     ]
    },
    {
     "data": {
      "image/png": "[encoded data removed]",
      "text/plain": [
       "<Figure size 432x288 with 1 Axes>"
      ]
     },
     "metadata": {
      "needs_background": "light"
     },
     "output_type": "display_data"
    }
   ],
   "source": [
    "# appending column vector of ones to make it of the form y = A*alpha + e\n",
    "A = np.append(x,np.ones((len(x),1)), axis = 1)\n",
    "Alpha = np.matmul(np.matmul(np.linalg.inv(np.matmul(A.T,A)),A.T),y) # finding slope(m) and intercept(c)\n",
    "print(f\"Slope = {Alpha[0]}\")\n",
    "print(f\"Intercept of line = {Alpha[1]}\")\n",
    "ycap = np.matmul(A,Alpha)\n",
    "plt.plot(x,y,'*')\n",
    "plt.plot(x,ycap)\n",
    "plt.xlabel('independent variable x')\n",
    "plt.ylabel('dependent variable y')\n",
    "plt.title(\"Regression Plot\")\n",
    "plt.show()"
   ]
  },
  {
   "cell_type": "code",
   "execution_count": 14,
   "metadata": {},
   "outputs": [
    {
     "name": "stdout",
     "output_type": "stream",
     "text": [
      "[[-0.]\n",
      " [-0.]]\n",
      "[[-0.]\n",
      " [-0.]]\n"
     ]
    }
   ],
   "source": [
    "error_vec = y - ycap\n",
    "#matrix product with transpose of A to show orthogonality\n",
    "print(np.round(np.matmul(A.T,error_vec))) \n",
    "# even dot product with column space gives same output\n",
    "print(np.round(np.dot(A.T,error_vec)))\n",
    "#rounded to prevent small error accumulated output"
   ]
  },
  {
   "cell_type": "markdown",
   "metadata": {},
   "source": [
    "##### Validating"
   ]
  },
  {
   "cell_type": "code",
   "execution_count": 15,
   "metadata": {},
   "outputs": [],
   "source": [
    "st = df.head()"
   ]
  },
  {
   "cell_type": "code",
   "execution_count": 16,
   "metadata": {},
   "outputs": [],
   "source": [
    "xvals = st['Length1'].to_numpy()\n",
    "yvals = st['Height'].to_numpy()"
   ]
  },
  {
   "cell_type": "code",
   "execution_count": 17,
   "metadata": {},
   "outputs": [
    {
     "name": "stdout",
     "output_type": "stream",
     "text": [
      "[[-3.36609082 -4.11157451 -4.03618905 -3.74484012 -3.40521104]]\n",
      "[[3.36609082 4.11157451 4.03618905 3.74484012 3.40521104]]\n"
     ]
    }
   ],
   "source": [
    "#validating:\n",
    "\n",
    "print(ycap[0:5].T - yvals) \n",
    "print(error_vec[0:5].T)"
   ]
  }
 ],
 "metadata": {
  "kernelspec": {
   "display_name": "Python 3",
   "language": "python",
   "name": "python3"
  },
  "language_info": {
   "codemirror_mode": {
    "name": "ipython",
    "version": 3
   },
   "file_extension": ".py",
   "mimetype": "text/x-python",
   "name": "python",
   "nbconvert_exporter": "python",
   "pygments_lexer": "ipython3",
   "version": "3.7.4"
  }
 },
 "nbformat": 4,
 "nbformat_minor": 4
}
